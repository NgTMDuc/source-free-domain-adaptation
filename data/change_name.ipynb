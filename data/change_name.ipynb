{
 "cells": [
  {
   "cell_type": "code",
   "execution_count": 1,
   "metadata": {},
   "outputs": [],
   "source": [
    "import os "
   ]
  },
  {
   "cell_type": "code",
   "execution_count": 14,
   "metadata": {},
   "outputs": [
    {
     "name": "stdout",
     "output_type": "stream",
     "text": [
      "File updated successfully!\n"
     ]
    }
   ],
   "source": [
    "file_path = \"/mnt/disk1/ducntm/source-free-domain-adaptation/data/domainnet126/sketch_list.txt\"  # Change this to your actual file\n",
    "\n",
    "old_part = \"/home/ts/projects/Datazoom\"\n",
    "new_part = \"/mnt/disk1/ducntm/DATA\"\n",
    "\n",
    "# Read and update the file\n",
    "with open(file_path, \"r\") as f:\n",
    "    lines = f.readlines()\n",
    "\n",
    "with open(file_path, \"w\") as f:\n",
    "    for line in lines:\n",
    "        f.write(line.replace(old_part, new_part))\n",
    "\n",
    "print(\"File updated successfully!\")"
   ]
  },
  {
   "cell_type": "code",
   "execution_count": null,
   "metadata": {},
   "outputs": [],
   "source": []
  }
 ],
 "metadata": {
  "kernelspec": {
   "display_name": "Benchmark_TTA",
   "language": "python",
   "name": "python3"
  },
  "language_info": {
   "codemirror_mode": {
    "name": "ipython",
    "version": 3
   },
   "file_extension": ".py",
   "mimetype": "text/x-python",
   "name": "python",
   "nbconvert_exporter": "python",
   "pygments_lexer": "ipython3",
   "version": "3.8.13"
  }
 },
 "nbformat": 4,
 "nbformat_minor": 2
}
